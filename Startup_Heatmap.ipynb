{
  "nbformat": 4,
  "nbformat_minor": 0,
  "metadata": {
    "colab": {
      "provenance": []
    },
    "kernelspec": {
      "name": "python3",
      "display_name": "Python 3"
    },
    "language_info": {
      "name": "python"
    }
  },
  "cells": [
    {
      "cell_type": "markdown",
      "source": [
        "https://github.com/noorkhokhar99/motion-heatmap-opencv\n",
        "\n",
        "\n",
        "https://github.com/robertosannazzaro/motion-heatmap-opencv"
      ],
      "metadata": {
        "id": "mAJajKBXYgI1"
      }
    },
    {
      "cell_type": "code",
      "execution_count": null,
      "metadata": {
        "colab": {
          "base_uri": "https://localhost:8080/"
        },
        "id": "y3GmlL_sTEpW",
        "outputId": "f5939ecd-27c8-4cfc-b256-d9ed47e3b43f"
      },
      "outputs": [
        {
          "output_type": "stream",
          "name": "stdout",
          "text": [
            "Cloning into 'motion-heatmap-opencv'...\n",
            "remote: Enumerating objects: 47, done.\u001b[K\n",
            "remote: Counting objects: 100% (47/47), done.\u001b[K\n",
            "remote: Compressing objects: 100% (44/44), done.\u001b[K\n",
            "remote: Total 47 (delta 11), reused 0 (delta 0), pack-reused 0\u001b[K\n",
            "Unpacking objects: 100% (47/47), 29.98 MiB | 4.88 MiB/s, done.\n"
          ]
        }
      ],
      "source": [
        "!git clone https://github.com/noorkhokhar99/motion-heatmap-opencv.git"
      ]
    },
    {
      "cell_type": "code",
      "source": [
        "%cd motion-heatmap-opencv\n",
        "!pip install --upgrade pip\n",
        "!pip install -r requirements.txt"
      ],
      "metadata": {
        "colab": {
          "base_uri": "https://localhost:8080/"
        },
        "id": "c7DdJReHW_wH",
        "outputId": "921b9c15-fde5-4507-eb70-75b7d0d2f762"
      },
      "execution_count": null,
      "outputs": [
        {
          "output_type": "stream",
          "name": "stdout",
          "text": [
            "/content/motion-heatmap-opencv\n",
            "Looking in indexes: https://pypi.org/simple, https://us-python.pkg.dev/colab-wheels/public/simple/\n",
            "Requirement already satisfied: pip in /usr/local/lib/python3.10/dist-packages (23.0.1)\n",
            "Collecting pip\n",
            "  Downloading pip-23.1.2-py3-none-any.whl (2.1 MB)\n",
            "\u001b[2K     \u001b[90m━━━━━━━━━━━━━━━━━━━━━━━━━━━━━━━━━━━━━━━━\u001b[0m \u001b[32m2.1/2.1 MB\u001b[0m \u001b[31m6.5 MB/s\u001b[0m eta \u001b[36m0:00:00\u001b[0m\n",
            "\u001b[?25hInstalling collected packages: pip\n",
            "  Attempting uninstall: pip\n",
            "    Found existing installation: pip 23.0.1\n",
            "    Uninstalling pip-23.0.1:\n",
            "      Successfully uninstalled pip-23.0.1\n",
            "Successfully installed pip-23.1.2\n",
            "\u001b[31mERROR: Could not open requirements file: [Errno 2] No such file or directory: 'requirements.txt'\u001b[0m\u001b[31m\n",
            "\u001b[0m"
          ]
        }
      ]
    },
    {
      "cell_type": "code",
      "source": [
        "!python heatmap.py"
      ],
      "metadata": {
        "id": "ML8-2dBpXOJQ",
        "colab": {
          "base_uri": "https://localhost:8080/"
        },
        "outputId": "44a067b8-dace-4a7a-ca2e-fe6e9167294f"
      },
      "execution_count": null,
      "outputs": [
        {
          "output_type": "stream",
          "name": "stdout",
          "text": [
            "Processing Frames |################################| 1041/1041\n",
            "Creating Video |################################| 1040/1040\u001b[?25h"
          ]
        }
      ]
    }
  ]
}